{
 "cells": [
  {
   "cell_type": "code",
   "execution_count": 1,
   "metadata": {},
   "outputs": [],
   "source": [
    "import pandas as pd\n",
    "import numpy as np\n",
    "import matplotlib.pyplot as plt\n",
    "from tqdm import tqdm"
   ]
  },
  {
   "cell_type": "markdown",
   "metadata": {},
   "source": [
    "## Data preparation and train"
   ]
  },
  {
   "cell_type": "code",
   "execution_count": 2,
   "metadata": {},
   "outputs": [],
   "source": [
    "data = pd.read_csv('stock_data.csv')"
   ]
  },
  {
   "cell_type": "code",
   "execution_count": 3,
   "metadata": {},
   "outputs": [
    {
     "data": {
      "text/html": [
       "<div>\n",
       "<style scoped>\n",
       "    .dataframe tbody tr th:only-of-type {\n",
       "        vertical-align: middle;\n",
       "    }\n",
       "\n",
       "    .dataframe tbody tr th {\n",
       "        vertical-align: top;\n",
       "    }\n",
       "\n",
       "    .dataframe thead th {\n",
       "        text-align: right;\n",
       "    }\n",
       "</style>\n",
       "<table border=\"1\" class=\"dataframe\">\n",
       "  <thead>\n",
       "    <tr style=\"text-align: right;\">\n",
       "      <th></th>\n",
       "      <th>date</th>\n",
       "      <th>ticker</th>\n",
       "      <th>open</th>\n",
       "      <th>high</th>\n",
       "      <th>low</th>\n",
       "      <th>close</th>\n",
       "      <th>volume</th>\n",
       "      <th>outstanding_share</th>\n",
       "      <th>turnover</th>\n",
       "      <th>pe</th>\n",
       "      <th>pe_ttm</th>\n",
       "      <th>pb</th>\n",
       "      <th>ps</th>\n",
       "      <th>ps_ttm</th>\n",
       "      <th>dv_ratio</th>\n",
       "      <th>dv_ttm</th>\n",
       "      <th>total_mv</th>\n",
       "      <th>qfq_factor</th>\n",
       "    </tr>\n",
       "  </thead>\n",
       "  <tbody>\n",
       "    <tr>\n",
       "      <th>0</th>\n",
       "      <td>2005-01-04</td>\n",
       "      <td>sh600000</td>\n",
       "      <td>0.77</td>\n",
       "      <td>0.77</td>\n",
       "      <td>0.75</td>\n",
       "      <td>0.76</td>\n",
       "      <td>3808939.0</td>\n",
       "      <td>900000000.0</td>\n",
       "      <td>0.004232</td>\n",
       "      <td>17.1990</td>\n",
       "      <td>14.4219</td>\n",
       "      <td>2.0777</td>\n",
       "      <td>3.1439</td>\n",
       "      <td>2.2097</td>\n",
       "      <td>6.9549</td>\n",
       "      <td>6.9549</td>\n",
       "      <td>2693520.0</td>\n",
       "      <td>8.895254</td>\n",
       "    </tr>\n",
       "    <tr>\n",
       "      <th>1</th>\n",
       "      <td>2005-01-05</td>\n",
       "      <td>sh600000</td>\n",
       "      <td>0.76</td>\n",
       "      <td>0.76</td>\n",
       "      <td>0.74</td>\n",
       "      <td>0.75</td>\n",
       "      <td>5225244.0</td>\n",
       "      <td>900000000.0</td>\n",
       "      <td>0.005806</td>\n",
       "      <td>16.9240</td>\n",
       "      <td>14.1913</td>\n",
       "      <td>2.0445</td>\n",
       "      <td>3.0937</td>\n",
       "      <td>2.1744</td>\n",
       "      <td>7.0679</td>\n",
       "      <td>7.0679</td>\n",
       "      <td>2650455.0</td>\n",
       "      <td>8.895254</td>\n",
       "    </tr>\n",
       "    <tr>\n",
       "      <th>2</th>\n",
       "      <td>2005-01-06</td>\n",
       "      <td>sh600000</td>\n",
       "      <td>0.75</td>\n",
       "      <td>0.75</td>\n",
       "      <td>0.73</td>\n",
       "      <td>0.74</td>\n",
       "      <td>4298099.0</td>\n",
       "      <td>900000000.0</td>\n",
       "      <td>0.004776</td>\n",
       "      <td>16.6991</td>\n",
       "      <td>14.0026</td>\n",
       "      <td>2.0173</td>\n",
       "      <td>3.0525</td>\n",
       "      <td>2.1455</td>\n",
       "      <td>7.1632</td>\n",
       "      <td>7.1632</td>\n",
       "      <td>2615220.0</td>\n",
       "      <td>8.895254</td>\n",
       "    </tr>\n",
       "    <tr>\n",
       "      <th>3</th>\n",
       "      <td>2005-01-07</td>\n",
       "      <td>sh600000</td>\n",
       "      <td>0.74</td>\n",
       "      <td>0.75</td>\n",
       "      <td>0.73</td>\n",
       "      <td>0.74</td>\n",
       "      <td>4362864.0</td>\n",
       "      <td>900000000.0</td>\n",
       "      <td>0.004848</td>\n",
       "      <td>16.7491</td>\n",
       "      <td>14.0446</td>\n",
       "      <td>2.0233</td>\n",
       "      <td>3.0617</td>\n",
       "      <td>2.1519</td>\n",
       "      <td>7.1418</td>\n",
       "      <td>7.1418</td>\n",
       "      <td>2623050.0</td>\n",
       "      <td>8.895254</td>\n",
       "    </tr>\n",
       "    <tr>\n",
       "      <th>4</th>\n",
       "      <td>2005-01-10</td>\n",
       "      <td>sh600000</td>\n",
       "      <td>0.75</td>\n",
       "      <td>0.77</td>\n",
       "      <td>0.74</td>\n",
       "      <td>0.77</td>\n",
       "      <td>7115260.0</td>\n",
       "      <td>900000000.0</td>\n",
       "      <td>0.007906</td>\n",
       "      <td>17.3240</td>\n",
       "      <td>14.0575</td>\n",
       "      <td>2.0082</td>\n",
       "      <td>3.1668</td>\n",
       "      <td>2.2258</td>\n",
       "      <td>6.9048</td>\n",
       "      <td>6.9048</td>\n",
       "      <td>2713095.0</td>\n",
       "      <td>8.895254</td>\n",
       "    </tr>\n",
       "  </tbody>\n",
       "</table>\n",
       "</div>"
      ],
      "text/plain": [
       "         date    ticker  open  high   low  close     volume  \\\n",
       "0  2005-01-04  sh600000  0.77  0.77  0.75   0.76  3808939.0   \n",
       "1  2005-01-05  sh600000  0.76  0.76  0.74   0.75  5225244.0   \n",
       "2  2005-01-06  sh600000  0.75  0.75  0.73   0.74  4298099.0   \n",
       "3  2005-01-07  sh600000  0.74  0.75  0.73   0.74  4362864.0   \n",
       "4  2005-01-10  sh600000  0.75  0.77  0.74   0.77  7115260.0   \n",
       "\n",
       "   outstanding_share  turnover       pe   pe_ttm      pb      ps  ps_ttm  \\\n",
       "0        900000000.0  0.004232  17.1990  14.4219  2.0777  3.1439  2.2097   \n",
       "1        900000000.0  0.005806  16.9240  14.1913  2.0445  3.0937  2.1744   \n",
       "2        900000000.0  0.004776  16.6991  14.0026  2.0173  3.0525  2.1455   \n",
       "3        900000000.0  0.004848  16.7491  14.0446  2.0233  3.0617  2.1519   \n",
       "4        900000000.0  0.007906  17.3240  14.0575  2.0082  3.1668  2.2258   \n",
       "\n",
       "   dv_ratio  dv_ttm   total_mv  qfq_factor  \n",
       "0    6.9549  6.9549  2693520.0    8.895254  \n",
       "1    7.0679  7.0679  2650455.0    8.895254  \n",
       "2    7.1632  7.1632  2615220.0    8.895254  \n",
       "3    7.1418  7.1418  2623050.0    8.895254  \n",
       "4    6.9048  6.9048  2713095.0    8.895254  "
      ]
     },
     "execution_count": 3,
     "metadata": {},
     "output_type": "execute_result"
    }
   ],
   "source": [
    "data.head()"
   ]
  },
  {
   "cell_type": "code",
   "execution_count": 4,
   "metadata": {},
   "outputs": [
    {
     "data": {
      "text/plain": [
       "(10129344, 18)"
      ]
     },
     "execution_count": 4,
     "metadata": {},
     "output_type": "execute_result"
    }
   ],
   "source": [
    "data.shape"
   ]
  },
  {
   "cell_type": "code",
   "execution_count": 5,
   "metadata": {},
   "outputs": [
    {
     "data": {
      "text/plain": [
       "(8135010, 18)"
      ]
     },
     "execution_count": 5,
     "metadata": {},
     "output_type": "execute_result"
    }
   ],
   "source": [
    "data = data[data['date'] >= '2011-01-01']\n",
    "data.shape"
   ]
  },
  {
   "cell_type": "code",
   "execution_count": 6,
   "metadata": {},
   "outputs": [],
   "source": [
    "data['eps'] = data['close'] / data['pe']"
   ]
  },
  {
   "cell_type": "code",
   "execution_count": 7,
   "metadata": {},
   "outputs": [],
   "source": [
    "data['price'] = data['close']"
   ]
  },
  {
   "cell_type": "code",
   "execution_count": 8,
   "metadata": {},
   "outputs": [
    {
     "data": {
      "text/html": [
       "<div>\n",
       "<style scoped>\n",
       "    .dataframe tbody tr th:only-of-type {\n",
       "        vertical-align: middle;\n",
       "    }\n",
       "\n",
       "    .dataframe tbody tr th {\n",
       "        vertical-align: top;\n",
       "    }\n",
       "\n",
       "    .dataframe thead th {\n",
       "        text-align: right;\n",
       "    }\n",
       "</style>\n",
       "<table border=\"1\" class=\"dataframe\">\n",
       "  <thead>\n",
       "    <tr style=\"text-align: right;\">\n",
       "      <th></th>\n",
       "      <th>date</th>\n",
       "      <th>ticker</th>\n",
       "      <th>price</th>\n",
       "      <th>eps</th>\n",
       "    </tr>\n",
       "  </thead>\n",
       "  <tbody>\n",
       "    <tr>\n",
       "      <th>1390</th>\n",
       "      <td>2011-01-04</td>\n",
       "      <td>sh600000</td>\n",
       "      <td>4.53</td>\n",
       "      <td>0.330891</td>\n",
       "    </tr>\n",
       "    <tr>\n",
       "      <th>1391</th>\n",
       "      <td>2011-01-05</td>\n",
       "      <td>sh600000</td>\n",
       "      <td>4.56</td>\n",
       "      <td>0.330464</td>\n",
       "    </tr>\n",
       "    <tr>\n",
       "      <th>1392</th>\n",
       "      <td>2011-01-06</td>\n",
       "      <td>sh600000</td>\n",
       "      <td>4.55</td>\n",
       "      <td>0.330779</td>\n",
       "    </tr>\n",
       "    <tr>\n",
       "      <th>1393</th>\n",
       "      <td>2011-01-07</td>\n",
       "      <td>sh600000</td>\n",
       "      <td>4.75</td>\n",
       "      <td>0.330702</td>\n",
       "    </tr>\n",
       "    <tr>\n",
       "      <th>1394</th>\n",
       "      <td>2011-01-10</td>\n",
       "      <td>sh600000</td>\n",
       "      <td>4.69</td>\n",
       "      <td>0.330521</td>\n",
       "    </tr>\n",
       "  </tbody>\n",
       "</table>\n",
       "</div>"
      ],
      "text/plain": [
       "            date    ticker  price       eps\n",
       "1390  2011-01-04  sh600000   4.53  0.330891\n",
       "1391  2011-01-05  sh600000   4.56  0.330464\n",
       "1392  2011-01-06  sh600000   4.55  0.330779\n",
       "1393  2011-01-07  sh600000   4.75  0.330702\n",
       "1394  2011-01-10  sh600000   4.69  0.330521"
      ]
     },
     "execution_count": 8,
     "metadata": {},
     "output_type": "execute_result"
    }
   ],
   "source": [
    "data = data[['date', 'ticker', 'price', 'eps']]\n",
    "data = data.dropna()\n",
    "data.head()"
   ]
  },
  {
   "cell_type": "code",
   "execution_count": 9,
   "metadata": {},
   "outputs": [],
   "source": [
    "first = data.groupby(['ticker'])['date'].min()"
   ]
  },
  {
   "cell_type": "code",
   "execution_count": 10,
   "metadata": {},
   "outputs": [],
   "source": [
    "last = data.groupby(['ticker'])['date'].max()"
   ]
  },
  {
   "cell_type": "code",
   "execution_count": 11,
   "metadata": {},
   "outputs": [],
   "source": [
    "lst = []\n",
    "for i in range(len(first)):\n",
    "    if first[i] == '2011-01-04' and last[i] == '2022-05-11':\n",
    "        lst.append(first.index[i])"
   ]
  },
  {
   "cell_type": "code",
   "execution_count": 12,
   "metadata": {},
   "outputs": [],
   "source": [
    "data['binary'] = data['ticker'].apply(lambda x: x in lst)"
   ]
  },
  {
   "cell_type": "code",
   "execution_count": 13,
   "metadata": {},
   "outputs": [],
   "source": [
    "data = data[data['binary'] == True]"
   ]
  },
  {
   "cell_type": "code",
   "execution_count": 14,
   "metadata": {},
   "outputs": [],
   "source": [
    "data = data.drop(columns=['binary'])"
   ]
  },
  {
   "cell_type": "code",
   "execution_count": 15,
   "metadata": {},
   "outputs": [
    {
     "data": {
      "text/plain": [
       "(3368033, 4)"
      ]
     },
     "execution_count": 15,
     "metadata": {},
     "output_type": "execute_result"
    }
   ],
   "source": [
    "data.shape"
   ]
  },
  {
   "cell_type": "code",
   "execution_count": 16,
   "metadata": {},
   "outputs": [],
   "source": [
    "stds = {}\n",
    "for company in lst:\n",
    "    arr = np.array(data[(data['ticker'] == company) & (data['date'] <= '2020-12-31')]['eps'])[::22]\n",
    "    arr = arr[len(arr)-24:]\n",
    "    std = np.std(arr[12:]-arr[:-12])\n",
    "    if not np.isnan(std):\n",
    "        stds[company] = std"
   ]
  },
  {
   "cell_type": "markdown",
   "metadata": {},
   "source": [
    "## Test"
   ]
  },
  {
   "cell_type": "code",
   "execution_count": 17,
   "metadata": {},
   "outputs": [],
   "source": [
    "data = data[data['date'] >= '2018-01-02']"
   ]
  },
  {
   "cell_type": "code",
   "execution_count": 18,
   "metadata": {},
   "outputs": [],
   "source": [
    "days_test = ['2020-01-02', '2020-02-03', '2020-03-02', '2020-04-01', '2020-05-06', '2020-06-01', '2020-07-01', '2020-08-03',\n",
    "             '2020-09-01', '2020-10-09', '2020-11-02', '2020-12-01', '2021-01-04', '2021-02-01', '2021-03-01', \n",
    "            '2021-04-01', '2021-05-06', '2021-06-01', '2021-07-01', '2021-08-02', '2021-09-01', '2021-10-08', \n",
    "            '2021-11-01', '2021-12-01', '2021-12-31']"
   ]
  },
  {
   "cell_type": "code",
   "execution_count": 19,
   "metadata": {
    "scrolled": true
   },
   "outputs": [
    {
     "name": "stderr",
     "output_type": "stream",
     "text": [
      " 46%|█████████████████████████████████████▊                                            | 6/13 [40:28<47:22, 406.04s/it]C:\\ProgramData\\Anaconda3\\lib\\site-packages\\numpy\\core\\_methods.py:233: RuntimeWarning: Degrees of freedom <= 0 for slice\n",
      "  ret = _var(a, axis=axis, dtype=dtype, out=out, ddof=ddof,\n",
      "C:\\ProgramData\\Anaconda3\\lib\\site-packages\\numpy\\core\\_methods.py:194: RuntimeWarning: invalid value encountered in true_divide\n",
      "  arrmean = um.true_divide(\n",
      "C:\\ProgramData\\Anaconda3\\lib\\site-packages\\numpy\\core\\_methods.py:226: RuntimeWarning: invalid value encountered in double_scalars\n",
      "  ret = ret.dtype.type(ret / rcount)\n",
      " 92%|████████████████████████████████████████████████████████████████████████▉      | 12/13 [1:22:20<06:51, 411.69s/it]\n",
      "  0%|                                                                                           | 0/13 [00:00<?, ?it/s]"
     ]
    },
    {
     "name": "stdout",
     "output_type": "stream",
     "text": [
      "========================================================================================\n",
      "profit: 0.18970090886501004\n",
      "drawdown: -0.12186256208073325\n",
      "profit/drawdown: 1.5566791443243602\n",
      "sharpe ratio: 0.48759611876148135\n",
      "========================================================================================\n"
     ]
    },
    {
     "name": "stderr",
     "output_type": "stream",
     "text": [
      " 92%|████████████████████████████████████████████████████████████████████████▉      | 12/13 [1:20:32<06:42, 402.70s/it]"
     ]
    },
    {
     "name": "stdout",
     "output_type": "stream",
     "text": [
      "========================================================================================\n",
      "profit: -0.10632963062362388\n",
      "drawdown: -0.1066178092151981\n",
      "profit/drawdown: -0.9972970876657898\n",
      "sharpe ratio: -0.2878560187305171\n",
      "========================================================================================\n"
     ]
    },
    {
     "name": "stderr",
     "output_type": "stream",
     "text": [
      "\n"
     ]
    }
   ],
   "source": [
    "for strategy in ['l', 's']:\n",
    "    portfolio = {}\n",
    "    profits = np.array([])\n",
    "    for i in tqdm(range(12, len(days_test))):\n",
    "        if i == 18:\n",
    "            stds = {}\n",
    "            for company in lst:\n",
    "                arr = np.array(data[(data['ticker'] == company) & (data['date'] <= '2021-07-01')]['eps'])[::22]\n",
    "                arr = arr[len(arr)-24:]\n",
    "                std = np.std(arr[12:]-arr[:-12])\n",
    "                if not np.isnan(std):\n",
    "                    stds[company] = std\n",
    "        present_day = days_test[i]\n",
    "        past_day = days_test[i-12]\n",
    "        arr = []\n",
    "\n",
    "        profit = 0 \n",
    "        cnt = 0\n",
    "        for key in portfolio:\n",
    "            for item in portfolio[key]:\n",
    "                if item[0] == 'l':\n",
    "                    try:\n",
    "                        profit += (float(data[(data['date'] == present_day) & (data['ticker'] == key)]['price'].iloc[0])- item[1]) / item[1]\n",
    "                        cnt += 1\n",
    "                    except Exception:\n",
    "                        continue\n",
    "                else:\n",
    "                    try:\n",
    "                        profit += (item[1] - float(data[(data['date'] == present_day) & (data['ticker'] == key)]['price'].iloc[0])) / item[1]\n",
    "                        cnt += 1\n",
    "                    except Exception:\n",
    "                        continue\n",
    "        if cnt != 0:\n",
    "            profit /= cnt\n",
    "        profits = np.append(profits, profit)\n",
    "\n",
    "        if i == len(days_test) - 1:\n",
    "            break   \n",
    "\n",
    "        for company in list(stds):\n",
    "            try:\n",
    "                present_eps = float(data[(data['date'] == present_day) & (data['ticker'] == company)]['eps'].iloc[0])\n",
    "                past_eps = float(data[(data['date'] == past_day) & (data['ticker'] == company)]['eps'].iloc[0])\n",
    "            except Exception:\n",
    "                continue\n",
    "\n",
    "            sue = (present_eps - past_eps) / stds[company]\n",
    "            arr.append([company, sue])\n",
    "\n",
    "        arr = sorted(arr, key=lambda x: x[1])\n",
    "        if strategy == 'l':\n",
    "            for j in range(len(arr) - 1, len(arr) - 6, -1):\n",
    "                if arr[j][0] not in portfolio:\n",
    "                    portfolio[arr[j][0]] = [['l', float(data[(data['date'] == present_day) & (data['ticker'] == arr[j][0])]['price'].iloc[0])]]\n",
    "                else:\n",
    "                    portfolio[arr[j][0]].append(['l', float(data[(data['date'] == present_day) & (data['ticker'] == arr[j][0])]['price'].iloc[0])])\n",
    "        else:\n",
    "            for j in range(5):\n",
    "                if arr[j][0] not in portfolio:\n",
    "                    portfolio[arr[j][0]] = [['s', float(data[(data['date'] == present_day) & (data['ticker'] == arr[j][0])]['price'].iloc[0])]]\n",
    "                else:\n",
    "                    portfolio[arr[j][0]].append(['s', float(data[(data['date'] == present_day) & (data['ticker'] == arr[j][0])]['price'].iloc[0])])\n",
    "    print('========================================================================================')\n",
    "    print(f'profit: {profits[-1]}')\n",
    "    print(f'drawdown: {min(profits)}')\n",
    "    print(f'profit/drawdown: {profits[-1] / abs(min(profits))}')\n",
    "    print(f'sharpe ratio: {(profits.mean() - 0.02 / len(profits)) / np.std(profits)}')\n",
    "    print('========================================================================================')\n",
    "    "
   ]
  },
  {
   "cell_type": "markdown",
   "metadata": {},
   "source": [
    "## Validation"
   ]
  },
  {
   "cell_type": "code",
   "execution_count": 22,
   "metadata": {},
   "outputs": [],
   "source": [
    "days_validation = ['2021-01-04', '2021-02-01', '2021-03-01', '2021-04-01', '2021-05-06', '2021-06-01', '2021-07-01', \n",
    "                   '2021-08-02', '2021-09-01', '2021-10-08', '2021-11-01', '2021-12-01', '2022-01-04',\n",
    "                  '2022-02-07', '2022-03-01', '2022-04-01', '2022-05-05', '2022-05-11']"
   ]
  },
  {
   "cell_type": "code",
   "execution_count": 23,
   "metadata": {},
   "outputs": [],
   "source": [
    "stds = {}\n",
    "for company in lst:\n",
    "    arr = np.array(data[(data['ticker'] == company) & (data['date'] <= '2021-12-31')]['eps'])[::22]\n",
    "    arr = arr[len(arr)-24:]\n",
    "    std = np.std(arr[12:]-arr[:-12])\n",
    "    if not np.isnan(std):\n",
    "        stds[company] = std"
   ]
  },
  {
   "cell_type": "code",
   "execution_count": 30,
   "metadata": {},
   "outputs": [
    {
     "name": "stderr",
     "output_type": "stream",
     "text": [
      " 83%|█████████████████████████████████████████████████████████████████████▏             | 5/6 [31:30<06:18, 378.13s/it]\n"
     ]
    }
   ],
   "source": [
    "portfolio = {}\n",
    "profits = np.array([])\n",
    "for i in tqdm(range(12, len(days_validation))):\n",
    "    present_day = days_validation[i]\n",
    "    past_day = days_validation[i-12]\n",
    "    arr = []\n",
    "    \n",
    "    profit = 0 \n",
    "    cnt = 0\n",
    "    for key in portfolio:\n",
    "        for item in portfolio[key]:\n",
    "            if item[0] == 'l':\n",
    "                try:\n",
    "                    profit += (float(data[(data['date'] == present_day) & (data['ticker'] == key)]['price'].iloc[0])- item[1]) / item[1]\n",
    "                    cnt += 1\n",
    "                except Exception:\n",
    "                    continue\n",
    "            else:\n",
    "                try:\n",
    "                    profit += (item[1] - float(data[(data['date'] == present_day) & (data['ticker'] == key)]['price'].iloc[0])) / item[1]\n",
    "                    cnt += 1\n",
    "                except Exception:\n",
    "                    continue\n",
    "    if cnt != 0:\n",
    "        profit /= cnt\n",
    "    profits = np.append(profits, profit)\n",
    "    \n",
    "    if i == len(days_validation) - 1:\n",
    "        break   \n",
    "    \n",
    "    for company in list(stds):\n",
    "        try:\n",
    "            present_eps = float(data[(data['date'] == present_day) & (data['ticker'] == company)]['eps'].iloc[0])\n",
    "            past_eps = float(data[(data['date'] == past_day) & (data['ticker'] == company)]['eps'].iloc[0])\n",
    "        except Exception:\n",
    "            continue\n",
    "        \n",
    "        sue = (present_eps - past_eps) / stds[company]\n",
    "        arr.append([company, sue])\n",
    "        \n",
    "    arr = sorted(arr, key=lambda x: x[1])\n",
    "    \n",
    "    if abs(arr[0][1] + arr[1][1] + arr[2][1]) > (arr[-1][1] + arr[-2][1] + arr[-3][1]):\n",
    "        long_threshold = 1\n",
    "        short_threshold = 3\n",
    "    else:\n",
    "        long_threshold = 3\n",
    "        short_threshold = 1\n",
    "    \n",
    "    for j in range(len(arr) - 1, len(arr) - 1 - long_threshold, -1):\n",
    "        if arr[j][0] not in portfolio:\n",
    "            portfolio[arr[j][0]] = [['l', float(data[(data['date'] == present_day) & (data['ticker'] == arr[j][0])]['price'].iloc[0])]]\n",
    "        else:\n",
    "            portfolio[arr[j][0]].append(['l', float(data[(data['date'] == present_day) & (data['ticker'] == arr[j][0])]['price'].iloc[0])])\n",
    "    \n",
    "    for j in range(short_threshold):\n",
    "        if arr[j][0] not in portfolio:\n",
    "            portfolio[arr[j][0]] = [['s', float(data[(data['date'] == present_day) & (data['ticker'] == arr[j][0])]['price'].iloc[0])]]\n",
    "        else:\n",
    "            portfolio[arr[j][0]].append(['s', float(data[(data['date'] == present_day) & (data['ticker'] == arr[j][0])]['price'].iloc[0])])\n",
    "    \n",
    "    "
   ]
  },
  {
   "cell_type": "code",
   "execution_count": 33,
   "metadata": {},
   "outputs": [
    {
     "name": "stdout",
     "output_type": "stream",
     "text": [
      "profit: 0.03251982446556134\n",
      "drawdown: 0.0\n",
      "profit/drawdown: inf\n",
      "sharpe ratio: 1.5146642090361218\n"
     ]
    },
    {
     "name": "stderr",
     "output_type": "stream",
     "text": [
      "<ipython-input-33-6703803aa0b3>:3: RuntimeWarning: divide by zero encountered in double_scalars\n",
      "  print(f'profit/drawdown: {profits[-1] / abs(min(profits))}')\n"
     ]
    }
   ],
   "source": [
    "print(f'profit: {profits[-1]}')\n",
    "print(f'drawdown: {min(profits)}')\n",
    "print(f'profit/drawdown: {profits[-1] / abs(min(profits))}')\n",
    "print(f'sharpe ratio: {(profits.mean() - 0.02 / len(profits)) / np.std(profits)}')"
   ]
  },
  {
   "cell_type": "code",
   "execution_count": 34,
   "metadata": {},
   "outputs": [
    {
     "data": {
      "text/plain": [
       "array([0.        , 0.01986132, 0.02142455, 0.04833004, 0.04038728,\n",
       "       0.03251982])"
      ]
     },
     "execution_count": 34,
     "metadata": {},
     "output_type": "execute_result"
    }
   ],
   "source": [
    "profits"
   ]
  },
  {
   "cell_type": "code",
   "execution_count": 35,
   "metadata": {},
   "outputs": [
    {
     "data": {
      "text/plain": [
       "{'sh600120': [['l', 4.46], ['l', 4.05], ['l', 4.34], ['s', 3.65]],\n",
       " 'sz002344': [['s', 5.02], ['s', 4.53], ['s', 4.57], ['s', 4.58], ['l', 4.17]],\n",
       " 'sz300107': [['s', 6.27], ['s', 5.56], ['s', 5.49]],\n",
       " 'sh600125': [['s', 5.32], ['s', 5.53], ['s', 5.67]],\n",
       " 'sh600873': [['l', 9.1], ['l', 9.06]],\n",
       " 'sh600096': [['l', 25.65], ['l', 25.01]],\n",
       " 'sh600309': [['l', 83.34]]}"
      ]
     },
     "execution_count": 35,
     "metadata": {},
     "output_type": "execute_result"
    }
   ],
   "source": [
    "portfolio"
   ]
  }
 ],
 "metadata": {
  "kernelspec": {
   "display_name": "Python 3",
   "language": "python",
   "name": "python3"
  },
  "language_info": {
   "codemirror_mode": {
    "name": "ipython",
    "version": 3
   },
   "file_extension": ".py",
   "mimetype": "text/x-python",
   "name": "python",
   "nbconvert_exporter": "python",
   "pygments_lexer": "ipython3",
   "version": "3.8.5"
  }
 },
 "nbformat": 4,
 "nbformat_minor": 4
}

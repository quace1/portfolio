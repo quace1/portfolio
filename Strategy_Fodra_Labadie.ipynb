{
 "cells": [
  {
   "cell_type": "code",
   "execution_count": 1,
   "metadata": {},
   "outputs": [],
   "source": [
    "from simulator import Sim\n",
    "from get_info import get_pnl\n",
    "from load_data import load_md_from_file\n",
    "\n",
    "\n",
    "import pandas as pd\n",
    "import numpy as np\n",
    "from matplotlib import pyplot as plt\n",
    "from typing import List, Optional, Tuple, Union, Dict\n",
    "import math\n",
    "from simulator import MdUpdate, Order, OwnTrade, Sim, update_best_positions\n",
    "\n",
    "\n",
    "PATH_TO_FILE = 'btcusdt_Binance_LinearPerpetual/'\n",
    "NROWS = 10**6"
   ]
  },
  {
   "cell_type": "code",
   "execution_count": 2,
   "metadata": {},
   "outputs": [],
   "source": [
    "md = load_md_from_file(path=PATH_TO_FILE, nrows=NROWS)"
   ]
  },
  {
   "cell_type": "markdown",
   "metadata": {},
   "source": [
    "We assuming that mid-price $S(t)$ is an Ornstein-Uhlenbeck process, i.e. \n",
    "\n",
    "$$dS(t)=a(\\mu -S(t))dt+\\sigma Wdt$$\n",
    "\n",
    "In that case, the optimal reservation price is:\n",
    "\n",
    "$$r_* = se^{-a(T-t)}+\\mu (1-e^{-a(T-t)}) - q(2\\eta + \\frac{\\gamma \\sigma^2}{2a}(1-e^{-2a(T-t)}))$$\n",
    "\n",
    "The optimal spread:\n",
    "\n",
    "$$\\psi_*=\\frac{2}{\\gamma}log(1+\\frac{\\gamma}{k})+2\\eta+\\frac{\\gamma\\sigma^2}{2a}(1-e^{-2a(T-t)}))$$"
   ]
  },
  {
   "cell_type": "code",
   "execution_count": 25,
   "metadata": {},
   "outputs": [],
   "source": [
    "class FodraLabadie:\n",
    "    def __init__(self, delta_t: float, gamma: float, trading_time: int, k: float, \\\n",
    "                 hold_time: float, a: float, mu: float, sigma: float, eta: float):\n",
    "        \"\"\"\n",
    "            Args:\n",
    "                delta_t(float): periodicity of trading\n",
    "                hold_time: holding time in nanoseconds\n",
    "                gamma(float): risk-measure\n",
    "                a, mu, sigma (float): parametres of an Ornstein-Uhlenbeck process\n",
    "                trading_time(int): the time during which we trade\n",
    "                k(float): coeff, that we take from market data\n",
    "                eta(float): inventory penalty\n",
    "        \"\"\"\n",
    "        self.delta_t = delta_t\n",
    "        self.hold_time = hold_time\n",
    "        self.gamma = gamma\n",
    "        self.T = trading_time\n",
    "        self.k = k\n",
    "        self.a = a\n",
    "        self.mu = mu\n",
    "        self.sigma = sigma\n",
    "        self.eta = eta\n",
    "\n",
    "    def run(self, sim: Sim) -> \\\n",
    "            Tuple[List[OwnTrade], List[MdUpdate], List[Union[OwnTrade, MdUpdate]], List[Order]]:\n",
    "        \"\"\"\n",
    "            This function runs simulation\n",
    "\n",
    "            Args:\n",
    "                sim(Sim): simulator\n",
    "            Returns:\n",
    "                trades_list(List[OwnTrade]): list of our executed trades\n",
    "                md_list(List[MdUpdate]): list of market data received by strategy\n",
    "                updates_list( List[ Union[OwnTrade, MdUpdate] ] ): list of all updates\n",
    "                received by strategy(market data and information about executed trades)\n",
    "                all_orders(List[Orted]): list of all placed orders\n",
    "        \"\"\"\n",
    "\n",
    "        # market data list\n",
    "        md_list: List[MdUpdate] = []\n",
    "        # executed trades list\n",
    "        trades_list: List[OwnTrade] = []\n",
    "        # all updates list\n",
    "        updates_list = []\n",
    "        # current best positions\n",
    "        best_bid = -np.inf\n",
    "        best_ask = np.inf\n",
    "\n",
    "        # last order timestamp\n",
    "        prev_time = -np.inf\n",
    "        # orders that have not been executed/canceled yet\n",
    "        ongoing_orders: Dict[int, Order] = {}\n",
    "        all_orders = []\n",
    "        # position\n",
    "        q = 0\n",
    "        while True:\n",
    "            # get update from simulator\n",
    "            receive_ts, updates = sim.tick()\n",
    "            if updates is None or receive_ts > self.T:\n",
    "                break\n",
    "            # save updates\n",
    "            updates_list += updates\n",
    "            for update in updates:\n",
    "                # update best position\n",
    "                if isinstance(update, MdUpdate):\n",
    "                    best_bid, best_ask = update_best_positions(best_bid, best_ask, update)\n",
    "                    md_list.append(update)\n",
    "                elif isinstance(update, OwnTrade):\n",
    "                    trades_list.append(update)\n",
    "                    # calculating change in position\n",
    "                    delta_pos = 0.001 if update.side == 'BID' else -0.001\n",
    "                    q += delta_pos\n",
    "                    # delete executed trades from the dict\n",
    "                    if update.order_id in ongoing_orders.keys():\n",
    "                        ongoing_orders.pop(update.order_id)\n",
    "                else:\n",
    "                    assert False, 'invalid type of update!'\n",
    "\n",
    "            if receive_ts - prev_time >= self.delta_t:\n",
    "                prev_time = receive_ts\n",
    "                mid_price = (best_bid + best_ask) / 2\n",
    "                indif_price = (mid_price * np.exp(-self.a * (self.T - receive_ts) / self.T) + self.mu * (1 - np.exp(-self.a * (self.T - receive_ts) / self.T)) \\\n",
    "                              -q * (2 * self.eta + self.gamma * (self.sigma ** 2) / (2 * self.a) * (1 - np.exp(-2 * self.a * (self.T - receive_ts) / self.T))))\n",
    "    \n",
    "                spread = (2 / self.gamma * np.log(1 + self.gamma / self.k) + 2 * self.eta + self.gamma * (self.sigma ** 2) / (2 * self.a) \\\n",
    "                         * (1 - np.exp(-2 * self.a * (self.T - receive_ts) / self.T)))\n",
    "                p_ask = indif_price + spread / 2\n",
    "                p_bid = indif_price - spread / 2\n",
    "                # place order\n",
    "                bid_order = sim.place_order(receive_ts, 0.001, 'BID', p_bid)\n",
    "                ask_order = sim.place_order(receive_ts, 0.001, 'ASK', p_ask)\n",
    "                ongoing_orders[bid_order.order_id] = bid_order\n",
    "                ongoing_orders[ask_order.order_id] = ask_order\n",
    "\n",
    "                all_orders += [bid_order, ask_order]\n",
    "\n",
    "            to_cancel = []\n",
    "            for ID, order in ongoing_orders.items():\n",
    "                if order.place_ts < receive_ts - self.hold_time:\n",
    "                    sim.cancel_order(receive_ts, ID)\n",
    "                    to_cancel.append(ID)\n",
    "            for ID in to_cancel:\n",
    "                ongoing_orders.pop(ID)\n",
    "\n",
    "        return trades_list, md_list, updates_list, all_orders"
   ]
  },
  {
   "cell_type": "code",
   "execution_count": 26,
   "metadata": {},
   "outputs": [],
   "source": [
    "delta_t = pd.Timedelta(0.5, 's').delta\n",
    "gamma = 0.1\n",
    "trading_time = 1.6559874448376184e+18\n",
    "k = 100\n",
    "hold_time = pd.Timedelta(10, 's').delta\n",
    "a = 1\n",
    "mu = 1.02\n",
    "sigma = 0.05\n",
    "eta = 0.0001\n",
    "\n",
    "strategy = FodraLabadie(delta_t, gamma, trading_time, k, hold_time, a, mu, sigma, eta)"
   ]
  },
  {
   "cell_type": "code",
   "execution_count": 27,
   "metadata": {},
   "outputs": [],
   "source": [
    "latency = pd.Timedelta(10, 'ms').delta\n",
    "md_latency = pd.Timedelta(10, 'ms').delta\n",
    "\n",
    "sim = Sim(md, latency, md_latency)"
   ]
  },
  {
   "cell_type": "code",
   "execution_count": 28,
   "metadata": {
    "scrolled": true
   },
   "outputs": [
    {
     "name": "stdout",
     "output_type": "stream",
     "text": [
      "Wall time: 1min 14s\n"
     ]
    }
   ],
   "source": [
    "%time trades_list, md_list, updates_list, all_orders = strategy.run(sim)"
   ]
  },
  {
   "cell_type": "code",
   "execution_count": 29,
   "metadata": {},
   "outputs": [
    {
     "name": "stdout",
     "output_type": "stream",
     "text": [
      "Wall time: 1min 58s\n"
     ]
    }
   ],
   "source": [
    "%time df = get_pnl(updates_list)"
   ]
  },
  {
   "cell_type": "code",
   "execution_count": 30,
   "metadata": {},
   "outputs": [],
   "source": [
    "dt = pd.to_datetime(df.receive_ts)"
   ]
  },
  {
   "cell_type": "code",
   "execution_count": 31,
   "metadata": {},
   "outputs": [
    {
     "data": {
      "image/png": "[encoded data removed]",
      "text/plain": [
       "<Figure size 720x360 with 1 Axes>"
      ]
     },
     "metadata": {
      "needs_background": "light"
     },
     "output_type": "display_data"
    }
   ],
   "source": [
    "plt.figure(figsize=(10, 5))\n",
    "plt.plot(dt, df.total, '-')\n",
    "plt.xlabel(\"time\", fontsize=13)\n",
    "plt.ylabel(\"PnL\", fontsize=13)\n",
    "plt.title(\"mu = 1.02 PNL\", fontsize=15)\n",
    "plt.grid()\n",
    "plt.show()"
   ]
  },
  {
   "cell_type": "code",
   "execution_count": null,
   "metadata": {},
   "outputs": [],
   "source": []
  }
 ],
 "metadata": {
  "kernelspec": {
   "display_name": "Python 3",
   "language": "python",
   "name": "python3"
  },
  "language_info": {
   "codemirror_mode": {
    "name": "ipython",
    "version": 3
   },
   "file_extension": ".py",
   "mimetype": "text/x-python",
   "name": "python",
   "nbconvert_exporter": "python",
   "pygments_lexer": "ipython3",
   "version": "3.8.5"
  }
 },
 "nbformat": 4,
 "nbformat_minor": 4
}
